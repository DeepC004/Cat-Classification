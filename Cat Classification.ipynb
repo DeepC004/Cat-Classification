{
  "nbformat": 4,
  "nbformat_minor": 0,
  "metadata": {
    "kernelspec": {
      "display_name": "Python 3",
      "language": "python",
      "name": "python3"
    },
    "language_info": {
      "codemirror_mode": {
        "name": "ipython",
        "version": 3
      },
      "file_extension": ".py",
      "mimetype": "text/x-python",
      "name": "python",
      "nbconvert_exporter": "python",
      "pygments_lexer": "ipython3",
      "version": "3.7.7"
    },
    "colab": {
      "name": "Logistics_Reg_Assn.ipynb",
      "provenance": [],
      "collapsed_sections": []
    }
  },
  "cells": [
    {
      "cell_type": "markdown",
      "metadata": {
        "id": "ODV-kLWnFCLp"
      },
      "source": [
        "## 1. Basic Design of the Model\n",
        "1. Output of the model: 0 or 1 (Binary Classification)\n",
        "2. Hypothesis to be tested: $Z = W \\cdot X + b$\n",
        "3. Activation Function: $\\frac{1}{1 + e^{-x}} $ (Signmoid Function)"
      ]
    },
    {
      "cell_type": "markdown",
      "metadata": {
        "id": "_oehNhBDFCLq"
      },
      "source": [
        "## 2. Import Packages\n",
        "\n",
        "1. numpy\n",
        "2. matplotlib\n",
        "3. seaborn"
      ]
    },
    {
      "cell_type": "code",
      "metadata": {
        "id": "OtEoCnoZFCLr"
      },
      "source": [
        "import numpy as np\n",
        "import matplotlib.pyplot as plt\n",
        "\n",
        "%matplotlib inline\n",
        "\n",
        "# Next Libraries are unimportant, they just make everyhting look better\n",
        "\n",
        "import matplotlib.style as style\n",
        "import seaborn as sns\n",
        "\n",
        "style.use('seaborn-poster') #sets the size of the charts\n",
        "style.use('ggplot')"
      ],
      "execution_count": 1,
      "outputs": []
    },
    {
      "cell_type": "markdown",
      "metadata": {
        "id": "BF5Hf3UhFCLv"
      },
      "source": [
        "## 3. Loading the dataset\n"
      ]
    },
    {
      "cell_type": "code",
      "metadata": {
        "id": "5rPC9-xZFCLx"
      },
      "source": [
        "dataset = np.load('dataset.npz', encoding='ASCII')\n",
        "## Get the numpy arrays from the dictionary\n",
        "X_train = dataset['X_train']\n",
        "Y_train = dataset['Y_train']\n",
        "X_test  = dataset['X_test']\n",
        "Y_test  = dataset['Y_test']"
      ],
      "execution_count": 74,
      "outputs": []
    },
    {
      "cell_type": "code",
      "metadata": {
        "id": "cOS8h4viFCL0",
        "colab": {
          "base_uri": "https://localhost:8080/"
        },
        "outputId": "9a2e5bad-5c71-434b-8b8e-481e40e1e59b"
      },
      "source": [
        "print(X_train.shape)\n",
        "print(Y_train.shape)\n",
        "print(X_test.shape)\n",
        "print(Y_test.shape)"
      ],
      "execution_count": 94,
      "outputs": [
        {
          "output_type": "stream",
          "name": "stdout",
          "text": [
            "(784, 8000)\n",
            "(1, 8000)\n",
            "(784, 2000)\n",
            "(1, 2000)\n"
          ]
        }
      ]
    },
    {
      "cell_type": "code",
      "metadata": {
        "id": "ozMfJJW3FCL5",
        "colab": {
          "base_uri": "https://localhost:8080/",
          "height": 298
        },
        "outputId": "d341793c-2d09-441b-963c-9edc8e7adbee"
      },
      "source": [
        "idx = np.random.randint(X_train.shape[1])\n",
        "\n",
        "plt.imshow(X_train[:, idx].reshape(28, 28))\n",
        "\n",
        "label = \"cat\" if Y_train[:, idx][0] else \"bat\"\n",
        "print(f\"Label: {label}\")"
      ],
      "execution_count": 75,
      "outputs": [
        {
          "output_type": "stream",
          "name": "stdout",
          "text": [
            "Label: cat\n"
          ]
        },
        {
          "output_type": "display_data",
          "data": {
            "image/png": "[encoded data removed]",
            "text/plain": [
              "<Figure size 432x288 with 1 Axes>"
            ]
          },
          "metadata": {
            "needs_background": "light"
          }
        }
      ]
    },
    {
      "cell_type": "markdown",
      "metadata": {
        "id": "qeg9vFx5FCMA"
      },
      "source": [
        "## 4. Normalizing the data\n",
        "\n",
        "Normalizing the data with the following equation:\n",
        "\n",
        "$$ X_{norm} = \\frac {X - X_{min}}{X_{max} - X_{min}} $$\n",
        "\n",
        "For this pixel data, $X_{max} = 255$ and $X_{min} = 0$\n",
        "\n",
        "> After running the next cell, go back and view the raw array again"
      ]
    },
    {
      "cell_type": "code",
      "metadata": {
        "id": "j9LgEtNsFCMB"
      },
      "source": [
        "## Normalizing the training and testing data\n",
        "X_min = 0\n",
        "X_max = 255\n",
        "X_train = X_train / X_max\n",
        "X_test = X_test / X_max"
      ],
      "execution_count": 76,
      "outputs": []
    },
    {
      "cell_type": "markdown",
      "metadata": {
        "id": "FB-J1xHEFCMF"
      },
      "source": [
        "## 5. Helper functions for the Model:\n",
        "\n",
        "### Sigmoid Function and Initialize Parameters function "
      ]
    },
    {
      "cell_type": "code",
      "metadata": {
        "id": "Y1T3thCFFCMG"
      },
      "source": [
        "def sigmoid(z):\n",
        "    \"\"\"\n",
        "    Computes the element sigmoid of scalar or numpy array(element wise)\n",
        "    \n",
        "    Arguments:\n",
        "        z: Scalar or numpy array\n",
        "    \n",
        "    Returns:\n",
        "        s: Sigmoid of z (element wise in case of Numpy Array)\n",
        "    \"\"\"\n",
        "    s = 1/(1+np.exp(-z))\n",
        "    \n",
        "    return s"
      ],
      "execution_count": 77,
      "outputs": []
    },
    {
      "cell_type": "code",
      "metadata": {
        "id": "BrrJqSIuFCMJ"
      },
      "source": [
        "def initialize_parameters(n_x):\n",
        "    \"\"\"\n",
        "    Initializes w to a zero vector, and b to a 0 with datatype float \n",
        "    \n",
        "    Arguments:\n",
        "        n_x: Number of features in each sample of X\n",
        "    \n",
        "    Returns:\n",
        "        w: Initialized Numpy array of shape (1, n_x) (Weight)\n",
        "        b: Initialized Scalar (bias)\n",
        "    \"\"\"\n",
        "\n",
        "    w = np.full((1,X_train.shape[0]),0)\n",
        "    b = 0\n",
        "    \n",
        "    return w, b\n"
      ],
      "execution_count": 78,
      "outputs": []
    },
    {
      "cell_type": "markdown",
      "metadata": {
        "id": "B51HHAg_FCMQ"
      },
      "source": [
        "Here is a summary of the equations for Forward Propagation and Backward Propagation we have used so far:\n",
        "\n",
        "For m training examples $ X_{train} $ and $ Y_{train} $:\n",
        "\n",
        "### 5.1 Forward Propagation\n",
        "\n",
        "$$ Z^{(i)} = w \\cdot X_{train}^{(i)} + b $$\n",
        "\n",
        "$$ \\hat Y^{(i)} = A^{(i)} = \\sigma(Z^{(i)}) = sigmoid(Z^{(i)}) $$\n",
        "\n",
        "$$ \\mathcal{L}(\\hat Y^{(i)}, Y_{train}^{(i)}) = \\mathcal{L}(A^{(i)}, Y_{train}^{(i)}) = -[Y_{train}^{(i)} \\log(A^{(i)}) + (1 - Y_{train}^{(i)}) \\log(1 - A^{(i)})] $$\n",
        "\n",
        "$$ J = \\frac{1}{m} \\sum_1^m \\mathcal{L} (A^{(i)}, Y_{train}^{(i)}) $$\n",
        "\n",
        "\n",
        "### 5.2 Backward Propagation - Batch Gradient Descent\n",
        "\n",
        "$$ \\frac{\\partial J}{\\partial w} = \\frac{1}{m} (A - Y) \\cdot X^T $$\n",
        "\n",
        "$$ \\frac{\\partial J}{\\partial b} = \\frac{1}{m} \\sum_1^m (A - Y) $$\n",
        "\n",
        "\n",
        "> Note: $ \\frac{\\partial J}{\\partial w} $ is represented as dw, and $ \\frac{\\partial J}{\\partial b}$ is represented as db\n"
      ]
    },
    {
      "cell_type": "code",
      "metadata": {
        "id": "Th4xkEvrFCMM"
      },
      "source": [
        "def compute_cost(A, Y, m):\n",
        "    \"\"\"\n",
        "    Calculates the Cost using the Cross Entropy Loss\n",
        "    \n",
        "    Arguments:\n",
        "        A: Computer Probabilities, numpy array\n",
        "        Y: Known Labels, numpy array\n",
        "        \n",
        "    Returns:\n",
        "        cost: The computed Cost\n",
        "    \"\"\"\n",
        "    cost = np.sum(((- np.log(A))*Y + (-np.log(1-A))*(1-Y)))/m\n",
        "    \n",
        "    return np.squeeze(cost)"
      ],
      "execution_count": 79,
      "outputs": []
    },
    {
      "cell_type": "code",
      "metadata": {
        "id": "xKf1Dc2lFCMQ"
      },
      "source": [
        "def propagate(w, b, X, Y):\n",
        "    \"\"\"\n",
        "    Performs forward and backward propagation for the Logistic Regression model\n",
        "    \n",
        "    Arguments:\n",
        "        w: The Weight Matrix of dimension (1, n_x)\n",
        "        b: Bias\n",
        "        X: Input Matrix, with shape (n_x, m)\n",
        "        Y: Label Matrix of shape (1, m)\n",
        "        \n",
        "    Returns:\n",
        "        dw: Gradient of the weight matrix\n",
        "        db: Gradient of the bias\n",
        "        cost: Cost computed on Calculated Probability, and output Label\n",
        "    \"\"\"\n",
        "    m = X.shape[1]\n",
        "    \n",
        "    A = sigmoid((w @ X)+b)\n",
        "    cost = compute_cost(A, Y, m)\n",
        "    dw = (np.dot(X,(A-Y).T).T)/m\n",
        "    db = (np.sum(A-Y))/m\n",
        "\n",
        "    assert(dw.shape == w.shape)\n",
        "    assert(db.dtype == float)\n",
        "    return dw, db, cost\n",
        "    "
      ],
      "execution_count": 80,
      "outputs": []
    },
    {
      "cell_type": "markdown",
      "metadata": {
        "id": "DJwQjwOiFCMU"
      },
      "source": [
        "### 5.3 Optimization\n",
        "\n",
        "For a parameter $ \\theta $, the gradient descent update rule is given by:\n",
        "$$ \\theta := \\theta - \\alpha \\frac{\\partial J}{\\partial \\theta} $$\n",
        "\n",
        "where $\\alpha$ is the learning rate"
      ]
    },
    {
      "cell_type": "code",
      "metadata": {
        "id": "FYFW6bSkFCMV"
      },
      "source": [
        "def fit(w, b, X, Y, num_iterations, learning_rate, print_freq=100):\n",
        "    \"\"\"\n",
        "    Given the parameters of the model, fits the model corresponding to the given Input Matrix aand output labels, by performing batch gradient descent for given number of iterations.\n",
        "    \n",
        "    Arguments:\n",
        "        w: The Weight Matrix of dimension (1, n_x)\n",
        "        b: Bias\n",
        "        X: Input Matrix, with shape (n_x, m)\n",
        "        Y: Label Matrix of shape (1, m)\n",
        "        num_iterations: The number of iteratios of bgd to be performed\n",
        "        print_freq: Frequency of recording the cost\n",
        "    Returns:\n",
        "        w: Optimized weight matrix\n",
        "        b: optimized bias\n",
        "        costs: print the cost at frequency given by print_freq, no prints if freq is 0\n",
        "    \"\"\"\n",
        "    \n",
        "    costs = []\n",
        "    for i in range(num_iterations):\n",
        "        ## 1. Calculate Gradients and cost\n",
        "        dw, db, cost = propagate(w, b, X, Y)\n",
        "        \n",
        "        costs.append(cost)\n",
        "            \n",
        "        if print_freq and i % print_freq == 0:\n",
        "            print(f\"Cost after iteration {i}: {cost}\")\n",
        "                \n",
        "        ## 2. Update parameters\n",
        "        w = w - (learning_rate*dw)\n",
        "        b = b - (learning_rate*db)\n",
        "\n",
        "            \n",
        "    return w, b, costs\n",
        "        "
      ],
      "execution_count": 81,
      "outputs": []
    },
    {
      "cell_type": "markdown",
      "metadata": {
        "id": "oBa_RviiFCMY"
      },
      "source": [
        "### 5.4 Prediction\n",
        "Using the following equation to determine the class that a given sample belongs to:\n",
        "\n",
        "$$\n",
        "\\begin{equation}\n",
        "    Y_{prediction}^{(i)} =\n",
        "    \\begin{cases} \n",
        "        1 \\text{, if } \\hat Y^{(i)} \\ge 0.5\\\\\n",
        "        0 \\text{, if } \\hat Y^{(i)} \\lt 0.5\\\\\n",
        "    \\end{cases}\n",
        "\\end{equation}\n",
        "$$\n"
      ]
    },
    {
      "cell_type": "code",
      "metadata": {
        "id": "fcLm6a7cFCMY"
      },
      "source": [
        "def predict(w, b, X):\n",
        "    \"\"\"\n",
        "    Predicts the class which the given feature vector belongs to given Weights and Bias of the model\n",
        "    \n",
        "    Arguments:\n",
        "        w: The Weight Matrix of dimension (1, n_x)\n",
        "        b: Bias\n",
        "        X: Input Matrix, with X.shape[0] = n_X\n",
        "    Returns:\n",
        "        Y_prediction: Predicted labels\n",
        "    \"\"\"\n",
        "    \n",
        "    m = X.shape[1]\n",
        "    Y_prediction = np.full((1,m),0)\n",
        "    A = sigmoid((w @ X) + b)\n",
        "    Y_prediction = (A >= 0.5) * 1.0\n",
        "    \n",
        "    return Y_prediction"
      ],
      "execution_count": 82,
      "outputs": []
    },
    {
      "cell_type": "markdown",
      "metadata": {
        "id": "Dv7psRMoFCMb"
      },
      "source": [
        "## 6. Building the Model\n",
        "\n",
        "Now we have assembled all the individual pieces required to create the Logistic Regression model.\n",
        "Next function is creating the model and calculating its train and test accuracy. \n",
        "\n"
      ]
    },
    {
      "cell_type": "code",
      "metadata": {
        "id": "5RUTGfTyFCMc"
      },
      "source": [
        "def model(X_train, Y_train, X_test, Y_test, num_iterations, learning_rate, print_freq):\n",
        "    \"\"\"\n",
        "    Creates a model and fit it to the train and test data. Use this model to compute the train and test accuracy after 2500 iterations\n",
        "    \n",
        "    Arguments:\n",
        "        X_train: Training Data X\n",
        "        Y_train: Training Data Y\n",
        "        X_test: Testing Data X\n",
        "        Y_test: Testing data Y\n",
        "        num_iterations: Number of iterations of bgd to perform\n",
        "        learning_rate: Learning Rate of the model\n",
        "        print_freq: Frequency of recording the cost\n",
        "    Returns:\n",
        "        -None-\n",
        "    \"\"\"\n",
        "    \n",
        "    w, b = initialize_parameters(X_train.shape[0])\n",
        "    w, b, costs = fit(w, b, X_train, Y_train, num_iterations, learning_rate, print_freq)\n",
        "    \n",
        "    Y_prediction_train = predict(w, b, X_train)\n",
        "    Y_prediction_test = predict(w, b, X_test)\n",
        "    \n",
        "    costs = np.squeeze(costs)\n",
        "    \n",
        "\n",
        "    print(f\"train accuracy: {100 - np.mean(np.abs(Y_prediction_train - Y_train)) * 100} %\")\n",
        "    print(f\"test accuracy: {100 - np.mean(np.abs(Y_prediction_test - Y_test)) * 100} %\")\n",
        "    \n",
        "    plt.plot(costs)\n",
        "    \n",
        "    plt.ylabel('cost')\n",
        "    plt.xlabel('iterations (per hundreds)')\n",
        "    plt.title(f\"Learning rate = {learning_rate}\")\n",
        "    plt.show()\n",
        "       "
      ],
      "execution_count": 92,
      "outputs": []
    },
    {
      "cell_type": "code",
      "metadata": {
        "id": "vEmGRqtqFCMf",
        "colab": {
          "base_uri": "https://localhost:8080/",
          "height": 711
        },
        "outputId": "c32e86df-f546-434e-d2d1-47ad26c74f6c"
      },
      "source": [
        "model(X_train, Y_train, X_test, Y_test, num_iterations=2000, learning_rate=0.1, print_freq=100)"
      ],
      "execution_count": 93,
      "outputs": [
        {
          "output_type": "stream",
          "name": "stdout",
          "text": [
            "Cost after iteration 0: 0.6931471805599454\n",
            "Cost after iteration 100: 0.3433501584110635\n",
            "Cost after iteration 200: 0.32897409842493286\n",
            "Cost after iteration 300: 0.32326638115534495\n",
            "Cost after iteration 400: 0.31970436704308053\n",
            "Cost after iteration 500: 0.3170647019548738\n",
            "Cost after iteration 600: 0.3149517208351771\n",
            "Cost after iteration 700: 0.3131873793654107\n",
            "Cost after iteration 800: 0.3116736166745069\n",
            "Cost after iteration 900: 0.31034955432445077\n",
            "Cost after iteration 1000: 0.3091744749560511\n",
            "Cost after iteration 1100: 0.30811971405331506\n",
            "Cost after iteration 1200: 0.30716429510898796\n",
            "Cost after iteration 1300: 0.30629238107355694\n",
            "Cost after iteration 1400: 0.30549169980607177\n",
            "Cost after iteration 1500: 0.30475252920478246\n",
            "Cost after iteration 1600: 0.3040670204069449\n",
            "Cost after iteration 1700: 0.3034287332047725\n",
            "Cost after iteration 1800: 0.3028323089289211\n",
            "Cost after iteration 1900: 0.30227323480515816\n",
            "train accuracy: 87.2875 %\n",
            "test accuracy: 87.3 %\n"
          ]
        },
        {
          "output_type": "display_data",
          "data": {
            "image/png": "[encoded data removed]",
            "text/plain": [
              "<Figure size 432x288 with 1 Axes>"
            ]
          },
          "metadata": {
            "needs_background": "light"
          }
        }
      ]
    }
  ]
}